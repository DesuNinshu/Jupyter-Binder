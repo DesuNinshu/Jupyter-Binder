{
 "cells": [
  {
   "cell_type": "markdown",
   "metadata": {},
   "source": [
    "# SharePoint API Reference\n",
    "\n",
    "\n",
    "\n",
    "## Lists and libraries\n",
    "\n",
    "### Fields\n",
    "\n",
    "\n",
    "| Field Name          | Property         | FieldTypeKind |\n",
    "| ------------------- | ---------------- | ------------- |\n",
    "| Single Line of Text | SP.FieldText     | 2             |\n",
    "| Multi Line of Text  | SP.Field         | 3             |\n",
    "| DateTime            | SP.FieldDateTime | 4             |\n",
    "| Boolean             | SP.Field         | 8             |\n",
    "| Choice              | SP.FieldChoice   | 6             |\n",
    "| Hyperlink           | SP.Field         | 11            |\n",
    "| Number              | SP.FieldNumber   | 1             |\n",
    "| Person/Group        | SP.Field         | 20            |\n",
    "\n",
    "TODO: Add more fields to the list\n",
    "\n",
    "\n",
    "#### Create a field\n",
    "\n",
    "``` HTTP\n",
    "\n",
    "POST {site}/_api/lists/getByTitle('List Title')/Fields HTTP/1.1\n",
    "Accept: application/json;odata=verbose\n",
    "Content-Type: application/json;odata=verbose\n",
    "\n",
    "{\n",
    "  \"__metadata\": {\n",
    "    \"type\": \"SP.TextField\"\n",
    "  },   \n",
    "  \"FieldTypeKind\": 2,\n",
    "  \"Title\": \"Single line of text field\"\n",
    "}\n",
    "```\n",
    "\n",
    "#### Modify a field\n",
    "\n",
    "\n",
    "\n",
    "#### Get a field\n",
    "\n",
    "\n",
    "\n",
    "\n",
    "### Items\n",
    "\n",
    "#### Get an item\n",
    "#### Create an item\n",
    "\n",
    "### Lists\n",
    "\n",
    "#### Get a list\n",
    "#### Create a list\n",
    "\n",
    "\n",
    "### Libraries\n",
    "\n",
    "#### Create a library\n",
    "#### Get a library"
   ]
  }
 ],
 "metadata": {
  "kernelspec": {
   "display_name": "Python 3.10.5 64-bit",
   "language": "python",
   "name": "python3"
  },
  "language_info": {
   "name": "python",
   "version": "3.10.5"
  },
  "orig_nbformat": 4,
  "vscode": {
   "interpreter": {
    "hash": "26de051ba29f2982a8de78e945f0abaf191376122a1563185a90213a26c5da77"
   }
  }
 },
 "nbformat": 4,
 "nbformat_minor": 2
}
